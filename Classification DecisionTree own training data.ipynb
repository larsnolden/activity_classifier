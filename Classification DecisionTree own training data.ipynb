{
 "cells": [
  {
   "cell_type": "code",
   "execution_count": 49,
   "id": "335648e7",
   "metadata": {},
   "outputs": [],
   "source": [
    "import pandas as pd\n",
    "import os\n",
    "from sklearn.model_selection import train_test_split\n",
    "from sklearn import tree\n",
    "from joblib import dump\n",
    "from sklearn.metrics import accuracy_score"
   ]
  },
  {
   "cell_type": "code",
   "execution_count": 50,
   "id": "4ef85472",
   "metadata": {},
   "outputs": [],
   "source": [
    "START_PATH = '/Users/radmehr/Desktop/Jupyter/activity_classifier/training_data'"
   ]
  },
  {
   "cell_type": "code",
   "execution_count": 51,
   "id": "cccad8a4",
   "metadata": {},
   "outputs": [],
   "source": [
    "total_training_data = pd.DataFrame(columns=['time', 'seconds_elapsed', 'Ax', 'Ay', 'Az', 'Gx' ,'Gy', 'Gz', 'Activity'])"
   ]
  },
  {
   "cell_type": "code",
   "execution_count": 52,
   "id": "375ba830",
   "metadata": {},
   "outputs": [],
   "source": [
    "for filename in os.listdir(START_PATH):\n",
    "    if(not filename.startswith('.')):\n",
    "        file_path = START_PATH+'/'+filename\n",
    "        df = pd.read_csv(file_path)\n",
    "        df = df.sort_values(by=['time'])\n",
    "        recording_time = df['seconds_elapsed'].max()\n",
    "        df = df[(df['seconds_elapsed'] > 5) & (recording_time - df['seconds_elapsed'] > 5)]\n",
    "        total_training_data = pd.concat([total_training_data, df], ignore_index=True)"
   ]
  },
  {
   "cell_type": "code",
   "execution_count": 53,
   "id": "263e66cb",
   "metadata": {},
   "outputs": [
    {
     "data": {
      "text/plain": "              time  seconds_elapsed        Ax        Ay         Az        Gx  \\\n0     1.664445e+12              6.0 -1.459564  1.734497   1.785965 -0.211319   \n1     1.664445e+12              6.0 -2.939178  0.118408  10.472122 -1.386307   \n2     1.664445e+12              6.0 -8.225571 -0.925461  17.293213  0.064590   \n3     1.664445e+12              6.0 -3.535339  1.619583  10.567902  0.833710   \n4     1.664445e+12              6.0 -0.686234  1.909271   5.037292  0.390549   \n...            ...              ...       ...       ...        ...       ...   \n6240  1.664369e+12             70.0 -6.657379  3.903641   6.246353  0.001251   \n6241  1.664369e+12             70.0 -7.121857  3.898865   6.035675  0.057709   \n6242  1.664369e+12             70.0 -7.059601  3.889282   5.789063 -0.048828   \n6243  1.664369e+12             70.0 -6.757935  3.846191   6.164963 -0.066925   \n6244  1.664369e+12             70.0 -6.987778  4.020966   6.107498 -0.001953   \n\n            Gy        Gz       Activity  Unnamed: 0  \n0    -0.144623 -0.006317  BrushingTeeth        58.0  \n1    -0.581375 -1.166397  BrushingTeeth        59.0  \n2     0.000259  0.117249  BrushingTeeth        60.0  \n3     0.414642  1.293304  BrushingTeeth        61.0  \n4     0.685226  0.629639  BrushingTeeth        62.0  \n...        ...       ...            ...         ...  \n6240  0.012543  0.017395         Eating       695.0  \n6241 -0.019409 -0.105118         Eating       696.0  \n6242 -0.007690 -0.016708         Eating       697.0  \n6243  0.007217 -0.018829         Eating       698.0  \n6244 -0.030060 -0.022034         Eating       699.0  \n\n[6245 rows x 10 columns]",
      "text/html": "<div>\n<style scoped>\n    .dataframe tbody tr th:only-of-type {\n        vertical-align: middle;\n    }\n\n    .dataframe tbody tr th {\n        vertical-align: top;\n    }\n\n    .dataframe thead th {\n        text-align: right;\n    }\n</style>\n<table border=\"1\" class=\"dataframe\">\n  <thead>\n    <tr style=\"text-align: right;\">\n      <th></th>\n      <th>time</th>\n      <th>seconds_elapsed</th>\n      <th>Ax</th>\n      <th>Ay</th>\n      <th>Az</th>\n      <th>Gx</th>\n      <th>Gy</th>\n      <th>Gz</th>\n      <th>Activity</th>\n      <th>Unnamed: 0</th>\n    </tr>\n  </thead>\n  <tbody>\n    <tr>\n      <th>0</th>\n      <td>1.664445e+12</td>\n      <td>6.0</td>\n      <td>-1.459564</td>\n      <td>1.734497</td>\n      <td>1.785965</td>\n      <td>-0.211319</td>\n      <td>-0.144623</td>\n      <td>-0.006317</td>\n      <td>BrushingTeeth</td>\n      <td>58.0</td>\n    </tr>\n    <tr>\n      <th>1</th>\n      <td>1.664445e+12</td>\n      <td>6.0</td>\n      <td>-2.939178</td>\n      <td>0.118408</td>\n      <td>10.472122</td>\n      <td>-1.386307</td>\n      <td>-0.581375</td>\n      <td>-1.166397</td>\n      <td>BrushingTeeth</td>\n      <td>59.0</td>\n    </tr>\n    <tr>\n      <th>2</th>\n      <td>1.664445e+12</td>\n      <td>6.0</td>\n      <td>-8.225571</td>\n      <td>-0.925461</td>\n      <td>17.293213</td>\n      <td>0.064590</td>\n      <td>0.000259</td>\n      <td>0.117249</td>\n      <td>BrushingTeeth</td>\n      <td>60.0</td>\n    </tr>\n    <tr>\n      <th>3</th>\n      <td>1.664445e+12</td>\n      <td>6.0</td>\n      <td>-3.535339</td>\n      <td>1.619583</td>\n      <td>10.567902</td>\n      <td>0.833710</td>\n      <td>0.414642</td>\n      <td>1.293304</td>\n      <td>BrushingTeeth</td>\n      <td>61.0</td>\n    </tr>\n    <tr>\n      <th>4</th>\n      <td>1.664445e+12</td>\n      <td>6.0</td>\n      <td>-0.686234</td>\n      <td>1.909271</td>\n      <td>5.037292</td>\n      <td>0.390549</td>\n      <td>0.685226</td>\n      <td>0.629639</td>\n      <td>BrushingTeeth</td>\n      <td>62.0</td>\n    </tr>\n    <tr>\n      <th>...</th>\n      <td>...</td>\n      <td>...</td>\n      <td>...</td>\n      <td>...</td>\n      <td>...</td>\n      <td>...</td>\n      <td>...</td>\n      <td>...</td>\n      <td>...</td>\n      <td>...</td>\n    </tr>\n    <tr>\n      <th>6240</th>\n      <td>1.664369e+12</td>\n      <td>70.0</td>\n      <td>-6.657379</td>\n      <td>3.903641</td>\n      <td>6.246353</td>\n      <td>0.001251</td>\n      <td>0.012543</td>\n      <td>0.017395</td>\n      <td>Eating</td>\n      <td>695.0</td>\n    </tr>\n    <tr>\n      <th>6241</th>\n      <td>1.664369e+12</td>\n      <td>70.0</td>\n      <td>-7.121857</td>\n      <td>3.898865</td>\n      <td>6.035675</td>\n      <td>0.057709</td>\n      <td>-0.019409</td>\n      <td>-0.105118</td>\n      <td>Eating</td>\n      <td>696.0</td>\n    </tr>\n    <tr>\n      <th>6242</th>\n      <td>1.664369e+12</td>\n      <td>70.0</td>\n      <td>-7.059601</td>\n      <td>3.889282</td>\n      <td>5.789063</td>\n      <td>-0.048828</td>\n      <td>-0.007690</td>\n      <td>-0.016708</td>\n      <td>Eating</td>\n      <td>697.0</td>\n    </tr>\n    <tr>\n      <th>6243</th>\n      <td>1.664369e+12</td>\n      <td>70.0</td>\n      <td>-6.757935</td>\n      <td>3.846191</td>\n      <td>6.164963</td>\n      <td>-0.066925</td>\n      <td>0.007217</td>\n      <td>-0.018829</td>\n      <td>Eating</td>\n      <td>698.0</td>\n    </tr>\n    <tr>\n      <th>6244</th>\n      <td>1.664369e+12</td>\n      <td>70.0</td>\n      <td>-6.987778</td>\n      <td>4.020966</td>\n      <td>6.107498</td>\n      <td>-0.001953</td>\n      <td>-0.030060</td>\n      <td>-0.022034</td>\n      <td>Eating</td>\n      <td>699.0</td>\n    </tr>\n  </tbody>\n</table>\n<p>6245 rows × 10 columns</p>\n</div>"
     },
     "execution_count": 53,
     "metadata": {},
     "output_type": "execute_result"
    }
   ],
   "source": [
    "total_training_data"
   ]
  },
  {
   "cell_type": "code",
   "execution_count": 54,
   "id": "b69b9eb2",
   "metadata": {},
   "outputs": [],
   "source": [
    "X_train, X_test, y_train, y_test = train_test_split(total_training_data[['Ax', 'Ay', 'Az', 'Gx' ,'Gy', 'Gz']], total_training_data['Activity'], test_size=0.3, random_state=0)"
   ]
  },
  {
   "cell_type": "code",
   "execution_count": 55,
   "id": "503ae7d5",
   "metadata": {},
   "outputs": [
    {
     "data": {
      "text/plain": "0.9706510138740662"
     },
     "execution_count": 55,
     "metadata": {},
     "output_type": "execute_result"
    }
   ],
   "source": [
    "decisionTree = tree.DecisionTreeClassifier(max_depth=20)\n",
    "decisionTree = decisionTree.fit(X_train, y_train,)\n",
    "y_pred = decisionTree.predict(X_test)\n",
    "accuracy_score(y_test, y_pred)"
   ]
  },
  {
   "cell_type": "code",
   "execution_count": 48,
   "id": "cff2a9f3",
   "metadata": {},
   "outputs": [
    {
     "data": {
      "text/plain": "['decision_tree.pkl']"
     },
     "execution_count": 48,
     "metadata": {},
     "output_type": "execute_result"
    }
   ],
   "source": [
    "dump(decisionTree, 'decision_tree.pkl', compress=9)"
   ]
  },
  {
   "cell_type": "code",
   "execution_count": 94,
   "id": "619067df",
   "metadata": {},
   "outputs": [],
   "source": []
  },
  {
   "cell_type": "code",
   "execution_count": 54,
   "id": "9d05616c",
   "metadata": {},
   "outputs": [],
   "source": []
  },
  {
   "cell_type": "code",
   "execution_count": null,
   "outputs": [],
   "source": [],
   "metadata": {
    "collapsed": false,
    "pycharm": {
     "name": "#%%\n"
    }
   }
  }
 ],
 "metadata": {
  "kernelspec": {
   "display_name": "Python 3 (ipykernel)",
   "language": "python",
   "name": "python3"
  },
  "language_info": {
   "codemirror_mode": {
    "name": "ipython",
    "version": 3
   },
   "file_extension": ".py",
   "mimetype": "text/x-python",
   "name": "python",
   "nbconvert_exporter": "python",
   "pygments_lexer": "ipython3",
   "version": "3.10.4"
  }
 },
 "nbformat": 4,
 "nbformat_minor": 5
}