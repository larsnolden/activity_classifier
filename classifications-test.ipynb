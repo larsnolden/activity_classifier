{
 "cells": [
  {
   "cell_type": "code",
   "execution_count": 132,
   "metadata": {},
   "outputs": [],
   "source": [
    "# Import the neccessary modules\n",
    "import pandas as pd\n",
    "import numpy as np\n"
   ]
  },
  {
   "cell_type": "code",
   "execution_count": 133,
   "metadata": {},
   "outputs": [],
   "source": [
    "# Read the dataset into a dataframe\n",
    "df = pd.read_excel('./Activity_Recognition_DataSet/Arm.xlsx')"
   ]
  },
  {
   "cell_type": "code",
   "execution_count": 134,
   "metadata": {},
   "outputs": [
    {
     "data": {
      "text/html": [
       "<div>\n",
       "<style scoped>\n",
       "    .dataframe tbody tr th:only-of-type {\n",
       "        vertical-align: middle;\n",
       "    }\n",
       "\n",
       "    .dataframe tbody tr th {\n",
       "        vertical-align: top;\n",
       "    }\n",
       "\n",
       "    .dataframe thead th {\n",
       "        text-align: right;\n",
       "    }\n",
       "</style>\n",
       "<table border=\"1\" class=\"dataframe\">\n",
       "  <thead>\n",
       "    <tr style=\"text-align: right;\">\n",
       "      <th></th>\n",
       "      <th>Time_Stamp</th>\n",
       "      <th>Ax</th>\n",
       "      <th>Ay</th>\n",
       "      <th>Az</th>\n",
       "      <th>Gx</th>\n",
       "      <th>Gy</th>\n",
       "      <th>Gz</th>\n",
       "      <th>Mx</th>\n",
       "      <th>My</th>\n",
       "      <th>Mz</th>\n",
       "      <th>Activity_Label</th>\n",
       "    </tr>\n",
       "  </thead>\n",
       "  <tbody>\n",
       "    <tr>\n",
       "      <th>0</th>\n",
       "      <td>1364396345335</td>\n",
       "      <td>-17.365944</td>\n",
       "      <td>19.517958</td>\n",
       "      <td>0.885323</td>\n",
       "      <td>-0.121868</td>\n",
       "      <td>2.177429</td>\n",
       "      <td>1.535715</td>\n",
       "      <td>18.300000</td>\n",
       "      <td>-44.160000</td>\n",
       "      <td>8.639999</td>\n",
       "      <td>Downstairs</td>\n",
       "    </tr>\n",
       "    <tr>\n",
       "      <th>1</th>\n",
       "      <td>1364396345354</td>\n",
       "      <td>-9.684067</td>\n",
       "      <td>13.933616</td>\n",
       "      <td>1.157730</td>\n",
       "      <td>-0.053145</td>\n",
       "      <td>-1.751656</td>\n",
       "      <td>1.254106</td>\n",
       "      <td>17.279999</td>\n",
       "      <td>-44.160000</td>\n",
       "      <td>9.179999</td>\n",
       "      <td>Downstairs</td>\n",
       "    </tr>\n",
       "    <tr>\n",
       "      <th>2</th>\n",
       "      <td>1364396345375</td>\n",
       "      <td>-4.045243</td>\n",
       "      <td>7.709117</td>\n",
       "      <td>-1.266692</td>\n",
       "      <td>-0.596510</td>\n",
       "      <td>-3.471852</td>\n",
       "      <td>1.176526</td>\n",
       "      <td>16.500000</td>\n",
       "      <td>-44.399998</td>\n",
       "      <td>9.360000</td>\n",
       "      <td>Downstairs</td>\n",
       "    </tr>\n",
       "    <tr>\n",
       "      <th>3</th>\n",
       "      <td>1364396345394</td>\n",
       "      <td>-1.770645</td>\n",
       "      <td>5.788648</td>\n",
       "      <td>-0.735499</td>\n",
       "      <td>-0.867734</td>\n",
       "      <td>-2.983771</td>\n",
       "      <td>0.893696</td>\n",
       "      <td>15.900000</td>\n",
       "      <td>-44.520000</td>\n",
       "      <td>9.360000</td>\n",
       "      <td>Downstairs</td>\n",
       "    </tr>\n",
       "    <tr>\n",
       "      <th>4</th>\n",
       "      <td>1364396345414</td>\n",
       "      <td>2.819412</td>\n",
       "      <td>3.963521</td>\n",
       "      <td>0.599295</td>\n",
       "      <td>-0.541227</td>\n",
       "      <td>-2.662762</td>\n",
       "      <td>0.328645</td>\n",
       "      <td>15.000000</td>\n",
       "      <td>-44.700000</td>\n",
       "      <td>9.240000</td>\n",
       "      <td>Downstairs</td>\n",
       "    </tr>\n",
       "  </tbody>\n",
       "</table>\n",
       "</div>"
      ],
      "text/plain": [
       "      Time_Stamp         Ax         Ay        Az        Gx        Gy  \\\n",
       "0  1364396345335 -17.365944  19.517958  0.885323 -0.121868  2.177429   \n",
       "1  1364396345354  -9.684067  13.933616  1.157730 -0.053145 -1.751656   \n",
       "2  1364396345375  -4.045243   7.709117 -1.266692 -0.596510 -3.471852   \n",
       "3  1364396345394  -1.770645   5.788648 -0.735499 -0.867734 -2.983771   \n",
       "4  1364396345414   2.819412   3.963521  0.599295 -0.541227 -2.662762   \n",
       "\n",
       "         Gz         Mx         My        Mz Activity_Label  \n",
       "0  1.535715  18.300000 -44.160000  8.639999     Downstairs  \n",
       "1  1.254106  17.279999 -44.160000  9.179999     Downstairs  \n",
       "2  1.176526  16.500000 -44.399998  9.360000     Downstairs  \n",
       "3  0.893696  15.900000 -44.520000  9.360000     Downstairs  \n",
       "4  0.328645  15.000000 -44.700000  9.240000     Downstairs  "
      ]
     },
     "execution_count": 134,
     "metadata": {},
     "output_type": "execute_result"
    }
   ],
   "source": [
    "df.head(5)"
   ]
  },
  {
   "cell_type": "code",
   "execution_count": 135,
   "metadata": {},
   "outputs": [
    {
     "data": {
      "text/html": [
       "<div>\n",
       "<style scoped>\n",
       "    .dataframe tbody tr th:only-of-type {\n",
       "        vertical-align: middle;\n",
       "    }\n",
       "\n",
       "    .dataframe tbody tr th {\n",
       "        vertical-align: top;\n",
       "    }\n",
       "\n",
       "    .dataframe thead th {\n",
       "        text-align: right;\n",
       "    }\n",
       "</style>\n",
       "<table border=\"1\" class=\"dataframe\">\n",
       "  <thead>\n",
       "    <tr style=\"text-align: right;\">\n",
       "      <th></th>\n",
       "      <th>Ax</th>\n",
       "      <th>Ay</th>\n",
       "      <th>Az</th>\n",
       "      <th>Gx</th>\n",
       "      <th>Gy</th>\n",
       "      <th>Gz</th>\n",
       "      <th>Mx</th>\n",
       "      <th>My</th>\n",
       "      <th>Mz</th>\n",
       "      <th>Activity_Label</th>\n",
       "    </tr>\n",
       "  </thead>\n",
       "  <tbody>\n",
       "    <tr>\n",
       "      <th>0</th>\n",
       "      <td>-17.365944</td>\n",
       "      <td>19.517958</td>\n",
       "      <td>0.885323</td>\n",
       "      <td>-0.121868</td>\n",
       "      <td>2.177429</td>\n",
       "      <td>1.535715</td>\n",
       "      <td>18.300000</td>\n",
       "      <td>-44.160000</td>\n",
       "      <td>8.639999</td>\n",
       "      <td>Downstairs</td>\n",
       "    </tr>\n",
       "    <tr>\n",
       "      <th>1</th>\n",
       "      <td>-9.684067</td>\n",
       "      <td>13.933616</td>\n",
       "      <td>1.157730</td>\n",
       "      <td>-0.053145</td>\n",
       "      <td>-1.751656</td>\n",
       "      <td>1.254106</td>\n",
       "      <td>17.279999</td>\n",
       "      <td>-44.160000</td>\n",
       "      <td>9.179999</td>\n",
       "      <td>Downstairs</td>\n",
       "    </tr>\n",
       "    <tr>\n",
       "      <th>2</th>\n",
       "      <td>-4.045243</td>\n",
       "      <td>7.709117</td>\n",
       "      <td>-1.266692</td>\n",
       "      <td>-0.596510</td>\n",
       "      <td>-3.471852</td>\n",
       "      <td>1.176526</td>\n",
       "      <td>16.500000</td>\n",
       "      <td>-44.399998</td>\n",
       "      <td>9.360000</td>\n",
       "      <td>Downstairs</td>\n",
       "    </tr>\n",
       "    <tr>\n",
       "      <th>3</th>\n",
       "      <td>-1.770645</td>\n",
       "      <td>5.788648</td>\n",
       "      <td>-0.735499</td>\n",
       "      <td>-0.867734</td>\n",
       "      <td>-2.983771</td>\n",
       "      <td>0.893696</td>\n",
       "      <td>15.900000</td>\n",
       "      <td>-44.520000</td>\n",
       "      <td>9.360000</td>\n",
       "      <td>Downstairs</td>\n",
       "    </tr>\n",
       "    <tr>\n",
       "      <th>4</th>\n",
       "      <td>2.819412</td>\n",
       "      <td>3.963521</td>\n",
       "      <td>0.599295</td>\n",
       "      <td>-0.541227</td>\n",
       "      <td>-2.662762</td>\n",
       "      <td>0.328645</td>\n",
       "      <td>15.000000</td>\n",
       "      <td>-44.700000</td>\n",
       "      <td>9.240000</td>\n",
       "      <td>Downstairs</td>\n",
       "    </tr>\n",
       "  </tbody>\n",
       "</table>\n",
       "</div>"
      ],
      "text/plain": [
       "          Ax         Ay        Az        Gx        Gy        Gz         Mx  \\\n",
       "0 -17.365944  19.517958  0.885323 -0.121868  2.177429  1.535715  18.300000   \n",
       "1  -9.684067  13.933616  1.157730 -0.053145 -1.751656  1.254106  17.279999   \n",
       "2  -4.045243   7.709117 -1.266692 -0.596510 -3.471852  1.176526  16.500000   \n",
       "3  -1.770645   5.788648 -0.735499 -0.867734 -2.983771  0.893696  15.900000   \n",
       "4   2.819412   3.963521  0.599295 -0.541227 -2.662762  0.328645  15.000000   \n",
       "\n",
       "          My        Mz Activity_Label  \n",
       "0 -44.160000  8.639999     Downstairs  \n",
       "1 -44.160000  9.179999     Downstairs  \n",
       "2 -44.399998  9.360000     Downstairs  \n",
       "3 -44.520000  9.360000     Downstairs  \n",
       "4 -44.700000  9.240000     Downstairs  "
      ]
     },
     "execution_count": 135,
     "metadata": {},
     "output_type": "execute_result"
    }
   ],
   "source": [
    "cols_to_drop = ['Time_Stamp']\n",
    "df = df.drop(cols_to_drop, axis=1)\n",
    "df.head(5)"
   ]
  },
  {
   "cell_type": "code",
   "execution_count": 136,
   "metadata": {},
   "outputs": [],
   "source": [
    "X = df.values\n",
    "y = df['Activity_Label'].values"
   ]
  },
  {
   "cell_type": "code",
   "execution_count": 137,
   "metadata": {},
   "outputs": [],
   "source": [
    "X = np.delete(X,9,axis=1)"
   ]
  },
  {
   "cell_type": "code",
   "execution_count": 138,
   "metadata": {},
   "outputs": [],
   "source": [
    "from sklearn.model_selection import train_test_split\n",
    "X_train, X_test, y_train, y_test = train_test_split(X, y, test_size=0.2, random_state=12);"
   ]
  },
  {
   "cell_type": "code",
   "execution_count": 139,
   "metadata": {},
   "outputs": [
    {
     "data": {
      "text/plain": [
       "DecisionTreeClassifier(max_depth=30)"
      ]
     },
     "execution_count": 139,
     "metadata": {},
     "output_type": "execute_result"
    }
   ],
   "source": [
    "#DecisionTree\n",
    "from sklearn import tree\n",
    "dt_clf = tree.DecisionTreeClassifier(max_depth=30)\n",
    "\n",
    "dt_clf.fit(X_train, y_train)"
   ]
  },
  {
   "cell_type": "code",
   "execution_count": 140,
   "metadata": {},
   "outputs": [
    {
     "data": {
      "text/plain": [
       "0.9235629143195045"
      ]
     },
     "execution_count": 140,
     "metadata": {},
     "output_type": "execute_result"
    }
   ],
   "source": [
    "#DecisionTree score\n",
    "dt_clf.score(X_test, y_test)"
   ]
  },
  {
   "cell_type": "code",
   "execution_count": 141,
   "metadata": {},
   "outputs": [
    {
     "data": {
      "text/plain": [
       "array([[2898,   79,    6,   49,  341,  301],\n",
       "       [ 111, 5360,    1,    6,  188,   24],\n",
       "       [   5,    0, 5991,    1,    4,    4],\n",
       "       [  35,    1,    0, 5993,   23,   15],\n",
       "       [ 352,  145,    2,   21, 3572,  248],\n",
       "       [ 227,   20,    3,   22,  222, 5861]], dtype=int64)"
      ]
     },
     "execution_count": 141,
     "metadata": {},
     "output_type": "execute_result"
    }
   ],
   "source": [
    "#Confusion matrix\n",
    "y_pred = dt_clf.predict(X_test)\n",
    "\n",
    "from sklearn.metrics import confusion_matrix\n",
    "confusion_matrix(y_test, y_pred)"
   ]
  },
  {
   "cell_type": "code",
   "execution_count": 142,
   "metadata": {},
   "outputs": [
    {
     "data": {
      "text/plain": [
       "RandomForestClassifier()"
      ]
     },
     "execution_count": 142,
     "metadata": {},
     "output_type": "execute_result"
    }
   ],
   "source": [
    "#Random forest\n",
    "\n",
    "from sklearn import ensemble\n",
    "rf_clf = ensemble.RandomForestClassifier(n_estimators=100)\n",
    "rf_clf.fit(X_train, y_train)"
   ]
  },
  {
   "cell_type": "code",
   "execution_count": 148,
   "metadata": {},
   "outputs": [
    {
     "data": {
      "text/plain": [
       "array(['Downstairs'], dtype=object)"
      ]
     },
     "execution_count": 148,
     "metadata": {},
     "output_type": "execute_result"
    }
   ],
   "source": [
    "#Random forest score\n",
    "rf_clf.score(X_test, y_test)\n",
    "\n",
    "rf_clf.predict([[-1.770645,5.788648,-0.735499,-0.867734,-2.983771,0.893696,15.900000,-44.520000,9.360000]])"
   ]
  },
  {
   "cell_type": "code",
   "execution_count": null,
   "metadata": {},
   "outputs": [
    {
     "data": {
      "text/plain": [
       "0.8873362173601818"
      ]
     },
     "execution_count": 125,
     "metadata": {},
     "output_type": "execute_result"
    }
   ],
   "source": [
    "#Gradient boosting\n",
    "\n",
    "gb_clf = ensemble.GradientBoostingClassifier(n_estimators=10)\n",
    "gb_clf.fit(X_train,y_train)\n",
    "gb_clf.score(X_test, y_test)"
   ]
  }
 ],
 "metadata": {
  "kernelspec": {
   "display_name": "Python 3.8.5 32-bit",
   "language": "python",
   "name": "python3"
  },
  "language_info": {
   "codemirror_mode": {
    "name": "ipython",
    "version": 3
   },
   "file_extension": ".py",
   "mimetype": "text/x-python",
   "name": "python",
   "nbconvert_exporter": "python",
   "pygments_lexer": "ipython3",
   "version": "3.8.5"
  },
  "orig_nbformat": 4,
  "vscode": {
   "interpreter": {
    "hash": "b4a5a8d032bcc60c10c7187917675220d32c8c5472a51cab1ff06e2571825e6b"
   }
  }
 },
 "nbformat": 4,
 "nbformat_minor": 2
}
