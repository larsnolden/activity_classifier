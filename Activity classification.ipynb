{
 "cells": [
  {
   "cell_type": "code",
   "execution_count": 1,
   "id": "27965676",
   "metadata": {},
   "outputs": [],
   "source": [
    "import pandas as pd"
   ]
  },
  {
   "cell_type": "code",
   "execution_count": 2,
   "id": "a03e590e",
   "metadata": {
    "scrolled": true
   },
   "outputs": [],
   "source": [
    "imported_data = pd.read_excel('./Activity_Recognition_DataSet/Arm.xlsx')"
   ]
  },
  {
   "cell_type": "code",
   "execution_count": 3,
   "id": "4c74bdc1",
   "metadata": {},
   "outputs": [
    {
     "data": {
      "text/html": [
       "<div>\n",
       "<style scoped>\n",
       "    .dataframe tbody tr th:only-of-type {\n",
       "        vertical-align: middle;\n",
       "    }\n",
       "\n",
       "    .dataframe tbody tr th {\n",
       "        vertical-align: top;\n",
       "    }\n",
       "\n",
       "    .dataframe thead th {\n",
       "        text-align: right;\n",
       "    }\n",
       "</style>\n",
       "<table border=\"1\" class=\"dataframe\">\n",
       "  <thead>\n",
       "    <tr style=\"text-align: right;\">\n",
       "      <th></th>\n",
       "      <th>Time_Stamp</th>\n",
       "      <th>Ax</th>\n",
       "      <th>Ay</th>\n",
       "      <th>Az</th>\n",
       "      <th>Gx</th>\n",
       "      <th>Gy</th>\n",
       "      <th>Gz</th>\n",
       "      <th>Mx</th>\n",
       "      <th>My</th>\n",
       "      <th>Mz</th>\n",
       "      <th>Activity_Label</th>\n",
       "    </tr>\n",
       "  </thead>\n",
       "  <tbody>\n",
       "    <tr>\n",
       "      <th>0</th>\n",
       "      <td>1364396345335</td>\n",
       "      <td>-17.365944</td>\n",
       "      <td>19.517958</td>\n",
       "      <td>0.885323</td>\n",
       "      <td>-0.121868</td>\n",
       "      <td>2.177429</td>\n",
       "      <td>1.535715</td>\n",
       "      <td>18.300000</td>\n",
       "      <td>-44.160000</td>\n",
       "      <td>8.639999</td>\n",
       "      <td>Downstairs</td>\n",
       "    </tr>\n",
       "    <tr>\n",
       "      <th>1</th>\n",
       "      <td>1364396345354</td>\n",
       "      <td>-9.684067</td>\n",
       "      <td>13.933616</td>\n",
       "      <td>1.157730</td>\n",
       "      <td>-0.053145</td>\n",
       "      <td>-1.751656</td>\n",
       "      <td>1.254106</td>\n",
       "      <td>17.279999</td>\n",
       "      <td>-44.160000</td>\n",
       "      <td>9.179999</td>\n",
       "      <td>Downstairs</td>\n",
       "    </tr>\n",
       "    <tr>\n",
       "      <th>2</th>\n",
       "      <td>1364396345375</td>\n",
       "      <td>-4.045243</td>\n",
       "      <td>7.709117</td>\n",
       "      <td>-1.266692</td>\n",
       "      <td>-0.596510</td>\n",
       "      <td>-3.471852</td>\n",
       "      <td>1.176526</td>\n",
       "      <td>16.500000</td>\n",
       "      <td>-44.399998</td>\n",
       "      <td>9.360000</td>\n",
       "      <td>Downstairs</td>\n",
       "    </tr>\n",
       "    <tr>\n",
       "      <th>3</th>\n",
       "      <td>1364396345394</td>\n",
       "      <td>-1.770645</td>\n",
       "      <td>5.788648</td>\n",
       "      <td>-0.735499</td>\n",
       "      <td>-0.867734</td>\n",
       "      <td>-2.983771</td>\n",
       "      <td>0.893696</td>\n",
       "      <td>15.900000</td>\n",
       "      <td>-44.520000</td>\n",
       "      <td>9.360000</td>\n",
       "      <td>Downstairs</td>\n",
       "    </tr>\n",
       "    <tr>\n",
       "      <th>4</th>\n",
       "      <td>1364396345414</td>\n",
       "      <td>2.819412</td>\n",
       "      <td>3.963521</td>\n",
       "      <td>0.599295</td>\n",
       "      <td>-0.541227</td>\n",
       "      <td>-2.662762</td>\n",
       "      <td>0.328645</td>\n",
       "      <td>15.000000</td>\n",
       "      <td>-44.700000</td>\n",
       "      <td>9.240000</td>\n",
       "      <td>Downstairs</td>\n",
       "    </tr>\n",
       "    <tr>\n",
       "      <th>...</th>\n",
       "      <td>...</td>\n",
       "      <td>...</td>\n",
       "      <td>...</td>\n",
       "      <td>...</td>\n",
       "      <td>...</td>\n",
       "      <td>...</td>\n",
       "      <td>...</td>\n",
       "      <td>...</td>\n",
       "      <td>...</td>\n",
       "      <td>...</td>\n",
       "      <td>...</td>\n",
       "    </tr>\n",
       "    <tr>\n",
       "      <th>160650</th>\n",
       "      <td>1364303049447</td>\n",
       "      <td>0.449471</td>\n",
       "      <td>9.942854</td>\n",
       "      <td>2.574246</td>\n",
       "      <td>0.464868</td>\n",
       "      <td>-1.096809</td>\n",
       "      <td>-0.822836</td>\n",
       "      <td>6.720000</td>\n",
       "      <td>-47.039997</td>\n",
       "      <td>4.620000</td>\n",
       "      <td>Walking</td>\n",
       "    </tr>\n",
       "    <tr>\n",
       "      <th>160651</th>\n",
       "      <td>1364303049467</td>\n",
       "      <td>0.572055</td>\n",
       "      <td>9.071152</td>\n",
       "      <td>2.451662</td>\n",
       "      <td>0.533896</td>\n",
       "      <td>-0.831082</td>\n",
       "      <td>-0.904691</td>\n",
       "      <td>7.020000</td>\n",
       "      <td>-46.920000</td>\n",
       "      <td>4.740000</td>\n",
       "      <td>Walking</td>\n",
       "    </tr>\n",
       "    <tr>\n",
       "      <th>160652</th>\n",
       "      <td>1364303049489</td>\n",
       "      <td>0.572055</td>\n",
       "      <td>7.150682</td>\n",
       "      <td>2.056673</td>\n",
       "      <td>0.470672</td>\n",
       "      <td>-0.698219</td>\n",
       "      <td>-0.919963</td>\n",
       "      <td>7.500000</td>\n",
       "      <td>-46.800000</td>\n",
       "      <td>5.040000</td>\n",
       "      <td>Walking</td>\n",
       "    </tr>\n",
       "    <tr>\n",
       "      <th>160653</th>\n",
       "      <td>1364303049509</td>\n",
       "      <td>0.313268</td>\n",
       "      <td>6.360703</td>\n",
       "      <td>1.947710</td>\n",
       "      <td>0.343612</td>\n",
       "      <td>-0.676228</td>\n",
       "      <td>-0.872316</td>\n",
       "      <td>7.740000</td>\n",
       "      <td>-46.739998</td>\n",
       "      <td>4.920000</td>\n",
       "      <td>Walking</td>\n",
       "    </tr>\n",
       "    <tr>\n",
       "      <th>160654</th>\n",
       "      <td>1364303049527</td>\n",
       "      <td>0.245166</td>\n",
       "      <td>6.183638</td>\n",
       "      <td>1.920469</td>\n",
       "      <td>0.203724</td>\n",
       "      <td>-0.665232</td>\n",
       "      <td>-0.755946</td>\n",
       "      <td>8.099999</td>\n",
       "      <td>-46.620000</td>\n",
       "      <td>5.040000</td>\n",
       "      <td>Walking</td>\n",
       "    </tr>\n",
       "  </tbody>\n",
       "</table>\n",
       "<p>160655 rows × 11 columns</p>\n",
       "</div>"
      ],
      "text/plain": [
       "           Time_Stamp         Ax         Ay        Az        Gx        Gy  \\\n",
       "0       1364396345335 -17.365944  19.517958  0.885323 -0.121868  2.177429   \n",
       "1       1364396345354  -9.684067  13.933616  1.157730 -0.053145 -1.751656   \n",
       "2       1364396345375  -4.045243   7.709117 -1.266692 -0.596510 -3.471852   \n",
       "3       1364396345394  -1.770645   5.788648 -0.735499 -0.867734 -2.983771   \n",
       "4       1364396345414   2.819412   3.963521  0.599295 -0.541227 -2.662762   \n",
       "...               ...        ...        ...       ...       ...       ...   \n",
       "160650  1364303049447   0.449471   9.942854  2.574246  0.464868 -1.096809   \n",
       "160651  1364303049467   0.572055   9.071152  2.451662  0.533896 -0.831082   \n",
       "160652  1364303049489   0.572055   7.150682  2.056673  0.470672 -0.698219   \n",
       "160653  1364303049509   0.313268   6.360703  1.947710  0.343612 -0.676228   \n",
       "160654  1364303049527   0.245166   6.183638  1.920469  0.203724 -0.665232   \n",
       "\n",
       "              Gz         Mx         My        Mz Activity_Label  \n",
       "0       1.535715  18.300000 -44.160000  8.639999     Downstairs  \n",
       "1       1.254106  17.279999 -44.160000  9.179999     Downstairs  \n",
       "2       1.176526  16.500000 -44.399998  9.360000     Downstairs  \n",
       "3       0.893696  15.900000 -44.520000  9.360000     Downstairs  \n",
       "4       0.328645  15.000000 -44.700000  9.240000     Downstairs  \n",
       "...          ...        ...        ...       ...            ...  \n",
       "160650 -0.822836   6.720000 -47.039997  4.620000        Walking  \n",
       "160651 -0.904691   7.020000 -46.920000  4.740000        Walking  \n",
       "160652 -0.919963   7.500000 -46.800000  5.040000        Walking  \n",
       "160653 -0.872316   7.740000 -46.739998  4.920000        Walking  \n",
       "160654 -0.755946   8.099999 -46.620000  5.040000        Walking  \n",
       "\n",
       "[160655 rows x 11 columns]"
      ]
     },
     "execution_count": 3,
     "metadata": {},
     "output_type": "execute_result"
    }
   ],
   "source": [
    "imported_data"
   ]
  },
  {
   "cell_type": "code",
   "execution_count": 4,
   "id": "7eadb9c8",
   "metadata": {},
   "outputs": [],
   "source": [
    "n_minimum_samples = imported_data.groupby('Activity_Label').count().min()[0]"
   ]
  },
  {
   "cell_type": "code",
   "execution_count": 5,
   "id": "94c4a662",
   "metadata": {},
   "outputs": [],
   "source": [
    "n_training_samples = 2/3 * n_minimum_samples"
   ]
  },
  {
   "cell_type": "code",
   "execution_count": 6,
   "id": "0b45c43c",
   "metadata": {},
   "outputs": [],
   "source": [
    "training_data = imported_data.groupby('Activity_Label').head(n_training_samples)"
   ]
  },
  {
   "cell_type": "code",
   "execution_count": 7,
   "id": "42465017",
   "metadata": {},
   "outputs": [
    {
     "data": {
      "text/plain": [
       "73812"
      ]
     },
     "execution_count": 7,
     "metadata": {},
     "output_type": "execute_result"
    }
   ],
   "source": [
    "training_data.count()[0]"
   ]
  },
  {
   "cell_type": "code",
   "execution_count": 8,
   "id": "932d3080",
   "metadata": {},
   "outputs": [
    {
     "name": "stderr",
     "output_type": "stream",
     "text": [
      "/var/folders/zw/nhh2j6mn1b582ymy17q7nq2m0000gn/T/ipykernel_12270/1289649001.py:5: SettingWithCopyWarning: \n",
      "A value is trying to be set on a copy of a slice from a DataFrame.\n",
      "Try using .loc[row_indexer,col_indexer] = value instead\n",
      "\n",
      "See the caveats in the documentation: https://pandas.pydata.org/pandas-docs/stable/user_guide/indexing.html#returning-a-view-versus-a-copy\n",
      "  training_data['Activity_Label'] = le.transform(training_data.Activity_Label)\n"
     ]
    }
   ],
   "source": [
    "from sklearn import preprocessing\n",
    "\n",
    "le = preprocessing.LabelEncoder()\n",
    "le.fit(training_data.Activity_Label)\n",
    "training_data['Activity_Label'] = le.transform(training_data.Activity_Label)\n",
    "# re process le.inverse_transform(df['categorical_label'])"
   ]
  },
  {
   "cell_type": "code",
   "execution_count": 9,
   "id": "eb1cf91f",
   "metadata": {},
   "outputs": [],
   "source": [
    "from sklearn.model_selection import train_test_split\n",
    "X_train, X_test, y_train, y_test = train_test_split(training_data[['Ax', 'Ay', 'Az', 'Gx' ,'Gy', 'Gz', 'Mx', 'My', 'Mz']], training_data['Activity_Label'], test_size=0.5, random_state=0)"
   ]
  },
  {
   "cell_type": "code",
   "execution_count": 40,
   "id": "a9c26c48",
   "metadata": {},
   "outputs": [
    {
     "name": "stdout",
     "output_type": "stream",
     "text": [
      "Number of mislabeled points out of a total 36906 points : 10946 =>  accuracy: 70% \n"
     ]
    }
   ],
   "source": [
    "from sklearn.naive_bayes import GaussianNB\n",
    "gnb = GaussianNB()\n",
    "model = gnb.fit(X_train, y_train)\n",
    "y_pred = model.predict(X_test)\n",
    "accuracy = (1-(y_test != y_pred).sum()/X_test.shape[0])*100\n",
    "print(\"Number of mislabeled points out of a total %d points : %d =>  accuracy: %d%% \"% (X_test.shape[0], (y_test != y_pred).sum(), accuracy))"
   ]
  },
  {
   "cell_type": "code",
   "execution_count": 41,
   "id": "3999e687",
   "metadata": {},
   "outputs": [
    {
     "name": "stdout",
     "output_type": "stream",
     "text": [
      "Number of mislabeled points out of a total 36906 points : 36906 => accuracy: 0% \n"
     ]
    }
   ],
   "source": [
    "from sklearn import tree\n",
    "decisionTree = tree.DecisionTreeClassifier(max_depth=30, max_leaf_nodes=3, random_state=0)\n",
    "decisionTree = decisionTree.fit(X_train, y_train,)\n",
    "y_pred = decisionTree.predict_proba(X_test)\n",
    "accuracy = (1-(y_test != y_pred).sum()/X_test.shape[0])*100\n",
    "print(\"Number of mislabeled points out of a total %d points : %d => accuracy: %d%% \"% (X_test.shape[0], (y_test != y_pred).sum(), accuracy))"
   ]
  },
  {
   "cell_type": "code",
   "execution_count": 38,
   "id": "cfbfd574",
   "metadata": {},
   "outputs": [
    {
     "data": {
      "image/svg+xml": [
       "<?xml version=\"1.0\" encoding=\"UTF-8\" standalone=\"no\"?>\n",
       "<!DOCTYPE svg PUBLIC \"-//W3C//DTD SVG 1.1//EN\"\n",
       " \"http://www.w3.org/Graphics/SVG/1.1/DTD/svg11.dtd\">\n",
       "<!-- Generated by graphviz version 2.50.0 (0)\n",
       " -->\n",
       "<!-- Title: Tree Pages: 1 -->\n",
       "<svg width=\"636pt\" height=\"269pt\"\n",
       " viewBox=\"0.00 0.00 635.50 269.00\" xmlns=\"http://www.w3.org/2000/svg\" xmlns:xlink=\"http://www.w3.org/1999/xlink\">\n",
       "<g id=\"graph0\" class=\"graph\" transform=\"scale(1 1) rotate(0) translate(4 265)\">\n",
       "<title>Tree</title>\n",
       "<polygon fill=\"white\" stroke=\"transparent\" points=\"-4,4 -4,-265 631.5,-265 631.5,4 -4,4\"/>\n",
       "<!-- 0 -->\n",
       "<g id=\"node1\" class=\"node\">\n",
       "<title>0</title>\n",
       "<polygon fill=\"none\" stroke=\"black\" points=\"524.5,-261 234.5,-261 234.5,-193 524.5,-193 524.5,-261\"/>\n",
       "<text text-anchor=\"middle\" x=\"379.5\" y=\"-245.8\" font-family=\"Helvetica,sans-Serif\" font-size=\"14.00\">X[0] &lt;= 5.904</text>\n",
       "<text text-anchor=\"middle\" x=\"379.5\" y=\"-230.8\" font-family=\"Helvetica,sans-Serif\" font-size=\"14.00\">gini = 0.833</text>\n",
       "<text text-anchor=\"middle\" x=\"379.5\" y=\"-215.8\" font-family=\"Helvetica,sans-Serif\" font-size=\"14.00\">samples = 36906</text>\n",
       "<text text-anchor=\"middle\" x=\"379.5\" y=\"-200.8\" font-family=\"Helvetica,sans-Serif\" font-size=\"14.00\">value = [6129, 6265, 6122, 6139, 6168, 6083]</text>\n",
       "</g>\n",
       "<!-- 1 -->\n",
       "<g id=\"node2\" class=\"node\">\n",
       "<title>1</title>\n",
       "<polygon fill=\"none\" stroke=\"black\" points=\"387.5,-157 97.5,-157 97.5,-89 387.5,-89 387.5,-157\"/>\n",
       "<text text-anchor=\"middle\" x=\"242.5\" y=\"-141.8\" font-family=\"Helvetica,sans-Serif\" font-size=\"14.00\">X[0] &lt;= &#45;5.768</text>\n",
       "<text text-anchor=\"middle\" x=\"242.5\" y=\"-126.8\" font-family=\"Helvetica,sans-Serif\" font-size=\"14.00\">gini = 0.819</text>\n",
       "<text text-anchor=\"middle\" x=\"242.5\" y=\"-111.8\" font-family=\"Helvetica,sans-Serif\" font-size=\"14.00\">samples = 31270</text>\n",
       "<text text-anchor=\"middle\" x=\"242.5\" y=\"-96.8\" font-family=\"Helvetica,sans-Serif\" font-size=\"14.00\">value = [6061, 5003, 1914, 6115, 6095, 6082]</text>\n",
       "</g>\n",
       "<!-- 0&#45;&gt;1 -->\n",
       "<g id=\"edge1\" class=\"edge\">\n",
       "<title>0&#45;&gt;1</title>\n",
       "<path fill=\"none\" stroke=\"black\" d=\"M335.02,-192.88C322.34,-183.44 308.4,-173.06 295.27,-163.29\"/>\n",
       "<polygon fill=\"black\" stroke=\"black\" points=\"297.34,-160.46 287.23,-157.3 293.16,-166.08 297.34,-160.46\"/>\n",
       "<text text-anchor=\"middle\" x=\"290.85\" y=\"-178.34\" font-family=\"Helvetica,sans-Serif\" font-size=\"14.00\">True</text>\n",
       "</g>\n",
       "<!-- 2 -->\n",
       "<g id=\"node5\" class=\"node\">\n",
       "<title>2</title>\n",
       "<polygon fill=\"none\" stroke=\"black\" points=\"627.5,-149.5 405.5,-149.5 405.5,-96.5 627.5,-96.5 627.5,-149.5\"/>\n",
       "<text text-anchor=\"middle\" x=\"516.5\" y=\"-134.3\" font-family=\"Helvetica,sans-Serif\" font-size=\"14.00\">gini = 0.392</text>\n",
       "<text text-anchor=\"middle\" x=\"516.5\" y=\"-119.3\" font-family=\"Helvetica,sans-Serif\" font-size=\"14.00\">samples = 5636</text>\n",
       "<text text-anchor=\"middle\" x=\"516.5\" y=\"-104.3\" font-family=\"Helvetica,sans-Serif\" font-size=\"14.00\">value = [68, 1262, 4208, 24, 73, 1]</text>\n",
       "</g>\n",
       "<!-- 0&#45;&gt;2 -->\n",
       "<g id=\"edge4\" class=\"edge\">\n",
       "<title>0&#45;&gt;2</title>\n",
       "<path fill=\"none\" stroke=\"black\" d=\"M423.98,-192.88C440.08,-180.9 458.21,-167.4 474.12,-155.55\"/>\n",
       "<polygon fill=\"black\" stroke=\"black\" points=\"476.29,-158.3 482.22,-149.52 472.11,-152.68 476.29,-158.3\"/>\n",
       "<text text-anchor=\"middle\" x=\"478.6\" y=\"-170.56\" font-family=\"Helvetica,sans-Serif\" font-size=\"14.00\">False</text>\n",
       "</g>\n",
       "<!-- 3 -->\n",
       "<g id=\"node3\" class=\"node\">\n",
       "<title>3</title>\n",
       "<polygon fill=\"none\" stroke=\"black\" points=\"215,-53 0,-53 0,0 215,0 215,-53\"/>\n",
       "<text text-anchor=\"middle\" x=\"107.5\" y=\"-37.8\" font-family=\"Helvetica,sans-Serif\" font-size=\"14.00\">gini = 0.329</text>\n",
       "<text text-anchor=\"middle\" x=\"107.5\" y=\"-22.8\" font-family=\"Helvetica,sans-Serif\" font-size=\"14.00\">samples = 3983</text>\n",
       "<text text-anchor=\"middle\" x=\"107.5\" y=\"-7.8\" font-family=\"Helvetica,sans-Serif\" font-size=\"14.00\">value = [349, 3221, 0, 39, 373, 1]</text>\n",
       "</g>\n",
       "<!-- 1&#45;&gt;3 -->\n",
       "<g id=\"edge2\" class=\"edge\">\n",
       "<title>1&#45;&gt;3</title>\n",
       "<path fill=\"none\" stroke=\"black\" d=\"M195.28,-88.95C181.43,-79.25 166.32,-68.68 152.6,-59.07\"/>\n",
       "<polygon fill=\"black\" stroke=\"black\" points=\"154.47,-56.1 144.27,-53.24 150.45,-61.84 154.47,-56.1\"/>\n",
       "</g>\n",
       "<!-- 4 -->\n",
       "<g id=\"node4\" class=\"node\">\n",
       "<title>4</title>\n",
       "<polygon fill=\"none\" stroke=\"black\" points=\"523.5,-53 233.5,-53 233.5,0 523.5,0 523.5,-53\"/>\n",
       "<text text-anchor=\"middle\" x=\"378.5\" y=\"-37.8\" font-family=\"Helvetica,sans-Serif\" font-size=\"14.00\">gini = 0.804</text>\n",
       "<text text-anchor=\"middle\" x=\"378.5\" y=\"-22.8\" font-family=\"Helvetica,sans-Serif\" font-size=\"14.00\">samples = 27287</text>\n",
       "<text text-anchor=\"middle\" x=\"378.5\" y=\"-7.8\" font-family=\"Helvetica,sans-Serif\" font-size=\"14.00\">value = [5712, 1782, 1914, 6076, 5722, 6081]</text>\n",
       "</g>\n",
       "<!-- 1&#45;&gt;4 -->\n",
       "<g id=\"edge3\" class=\"edge\">\n",
       "<title>1&#45;&gt;4</title>\n",
       "<path fill=\"none\" stroke=\"black\" d=\"M290.07,-88.95C304.02,-79.25 319.24,-68.68 333.06,-59.07\"/>\n",
       "<polygon fill=\"black\" stroke=\"black\" points=\"335.25,-61.82 341.46,-53.24 331.25,-56.07 335.25,-61.82\"/>\n",
       "</g>\n",
       "</g>\n",
       "</svg>\n"
      ],
      "text/plain": [
       "<graphviz.sources.Source at 0x7fd718fadf60>"
      ]
     },
     "metadata": {},
     "output_type": "display_data"
    }
   ],
   "source": [
    "#tree.export_text(decisionTree)\n",
    "from IPython.display import display\n",
    "import graphviz\n",
    "from sklearn.tree import DecisionTreeRegressor, DecisionTreeClassifier,export_graphviz\n",
    "\n",
    "display(graphviz.Source(export_graphviz(decisionTree)))"
   ]
  },
  {
   "cell_type": "code",
   "execution_count": null,
   "id": "f296c0bd",
   "metadata": {},
   "outputs": [],
   "source": []
  }
 ],
 "metadata": {
  "kernelspec": {
   "display_name": "Python 3 (ipykernel)",
   "language": "python",
   "name": "python3"
  },
  "language_info": {
   "codemirror_mode": {
    "name": "ipython",
    "version": 3
   },
   "file_extension": ".py",
   "mimetype": "text/x-python",
   "name": "python",
   "nbconvert_exporter": "python",
   "pygments_lexer": "ipython3",
   "version": "3.10.4"
  }
 },
 "nbformat": 4,
 "nbformat_minor": 5
}
