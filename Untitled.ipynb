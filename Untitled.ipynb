{
 "cells": [
  {
   "cell_type": "code",
   "execution_count": 8,
   "id": "105c1456",
   "metadata": {},
   "outputs": [],
   "source": [
    "import pandas as pd\n",
    "import os"
   ]
  },
  {
   "cell_type": "code",
   "execution_count": 38,
   "id": "a414b01f",
   "metadata": {},
   "outputs": [],
   "source": [
    "START_PATH = '/Users/larsnolden/Projects/activity_classification/training_data'\n",
    "TARGET_FILES = ['AccelerometerUncalibrated.csv', 'GyroscopeUncalibrated.csv']"
   ]
  },
  {
   "cell_type": "code",
   "execution_count": 34,
   "id": "497682ae",
   "metadata": {},
   "outputs": [],
   "source": [
    "def add_acitvity_column(base_path, filename, activity):\n",
    "    df = pd.read_csv(base_path + '/' + filename)\n",
    "    df['Activity'] = activity\n",
    "    filename_labeld = '%s_labeld'%filename\n",
    "    df.to_csv('%s.csv'%filename_labeld)"
   ]
  },
  {
   "cell_type": "code",
   "execution_count": 44,
   "id": "48a3373d",
   "metadata": {},
   "outputs": [],
   "source": [
    "export_df = pd.DataFrame(columns=['time', 'seconds_elapsed', 'Ax', 'Ay', 'Az', 'Gx' ,'Gy', 'Gz'])"
   ]
  },
  {
   "cell_type": "code",
   "execution_count": 42,
   "id": "41f6f248",
   "metadata": {},
   "outputs": [
    {
     "name": "stdout",
     "output_type": "stream",
     "text": [
      "/Users/larsnolden/Projects/activity_classification/training_data/Standing-2022-09-22_15-49-15/GyroscopeUncalibrated.csv\n",
      "/Users/larsnolden/Projects/activity_classification/training_data/Standing-2022-09-22_15-49-15/AccelerometerUncalibrated.csv\n",
      "/Users/larsnolden/Projects/activity_classification/training_data/Cycling-2022-09-22_15-35-57/GyroscopeUncalibrated.csv\n",
      "/Users/larsnolden/Projects/activity_classification/training_data/Cycling-2022-09-22_15-35-57/AccelerometerUncalibrated.csv\n",
      "/Users/larsnolden/Projects/activity_classification/training_data/Sitting-2022-09-22_15-50-13/GyroscopeUncalibrated.csv\n",
      "/Users/larsnolden/Projects/activity_classification/training_data/Sitting-2022-09-22_15-50-13/AccelerometerUncalibrated.csv\n",
      "/Users/larsnolden/Projects/activity_classification/training_data/Walking-2022-09-22_15-33-00/GyroscopeUncalibrated.csv\n",
      "/Users/larsnolden/Projects/activity_classification/training_data/Walking-2022-09-22_15-33-00/AccelerometerUncalibrated.csv\n",
      "/Users/larsnolden/Projects/activity_classification/training_data/Squats-2022-09-22_15-51-14/GyroscopeUncalibrated.csv\n",
      "/Users/larsnolden/Projects/activity_classification/training_data/Squats-2022-09-22_15-51-14/AccelerometerUncalibrated.csv\n",
      "/Users/larsnolden/Projects/activity_classification/training_data/Stairs_down-2022-09-22_16-02-34/GyroscopeUncalibrated.csv\n",
      "/Users/larsnolden/Projects/activity_classification/training_data/Stairs_down-2022-09-22_16-02-34/AccelerometerUncalibrated.csv\n",
      "/Users/larsnolden/Projects/activity_classification/training_data/Stairs_up-2022-09-22_16-03-07/GyroscopeUncalibrated.csv\n",
      "/Users/larsnolden/Projects/activity_classification/training_data/Stairs_up-2022-09-22_16-03-07/AccelerometerUncalibrated.csv\n"
     ]
    }
   ],
   "source": [
    "for foldername in os.listdir(START_PATH):\n",
    "    if(not foldername.startswith('.')):\n",
    "        folder_path = START_PATH+'/'+foldername\n",
    "        for filename in os.listdir(folder_path):\n",
    "            if(filename in TARGET_FILES):\n",
    "                activity = foldername.split('-')[0]\n",
    "                file_path = folder_path + '/' + filename\n",
    "                df = pd.read_csv(base_path + '/' + filename)\n",
    "                df['Activity'] = activity\n",
    "                if(filname is TARGET_FILES[0]):\n",
    "                    #Accelerometer\n",
    "                    export_df\n",
    "                else if(filename is TARGET_FILES[1]):\n",
    "                    #Gyroscope\n",
    "\n",
    "                print()"
   ]
  },
  {
   "cell_type": "code",
   "execution_count": 47,
   "id": "7ff37661",
   "metadata": {},
   "outputs": [
    {
     "data": {
      "text/html": [
       "<div>\n",
       "<style scoped>\n",
       "    .dataframe tbody tr th:only-of-type {\n",
       "        vertical-align: middle;\n",
       "    }\n",
       "\n",
       "    .dataframe tbody tr th {\n",
       "        vertical-align: top;\n",
       "    }\n",
       "\n",
       "    .dataframe thead th {\n",
       "        text-align: right;\n",
       "    }\n",
       "</style>\n",
       "<table border=\"1\" class=\"dataframe\">\n",
       "  <thead>\n",
       "    <tr style=\"text-align: right;\">\n",
       "      <th></th>\n",
       "      <th>time</th>\n",
       "      <th>seconds_elapsed</th>\n",
       "      <th>Ax</th>\n",
       "      <th>Ay</th>\n",
       "      <th>Az</th>\n",
       "      <th>Gx</th>\n",
       "      <th>Gy</th>\n",
       "      <th>Gz</th>\n",
       "    </tr>\n",
       "  </thead>\n",
       "  <tbody>\n",
       "  </tbody>\n",
       "</table>\n",
       "</div>"
      ],
      "text/plain": [
       "Empty DataFrame\n",
       "Columns: [time, seconds_elapsed, Ax, Ay, Az, Gx, Gy, Gz]\n",
       "Index: []"
      ]
     },
     "execution_count": 47,
     "metadata": {},
     "output_type": "execute_result"
    }
   ],
   "source": [
    "export_df.head(4)"
   ]
  },
  {
   "cell_type": "code",
   "execution_count": null,
   "id": "b6852426",
   "metadata": {},
   "outputs": [],
   "source": []
  },
  {
   "cell_type": "code",
   "execution_count": null,
   "id": "9dc79578",
   "metadata": {},
   "outputs": [],
   "source": []
  }
 ],
 "metadata": {
  "kernelspec": {
   "display_name": "Python 3 (ipykernel)",
   "language": "python",
   "name": "python3"
  },
  "language_info": {
   "codemirror_mode": {
    "name": "ipython",
    "version": 3
   },
   "file_extension": ".py",
   "mimetype": "text/x-python",
   "name": "python",
   "nbconvert_exporter": "python",
   "pygments_lexer": "ipython3",
   "version": "3.10.4"
  }
 },
 "nbformat": 4,
 "nbformat_minor": 5
}
